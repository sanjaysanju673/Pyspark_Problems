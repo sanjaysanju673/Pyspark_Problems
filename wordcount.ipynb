{
 "cells": [
  {
   "cell_type": "markdown",
   "metadata": {},
   "source": [
    "'''<br>\n",
    "    @Author: v sanjay kumar<br>\n",
    "    @Date: 2024-08-09 04:00:30<br>\n",
    "    @Last Modified by: v sanjay kumar<br>\n",
    "    @Last Modified time: 2024-08-09 04:00:30.<br>\n",
    "    @Title :program to delete the 'attempts' column from the DataFrame.<br>\n",
    "'''\n"
   ]
  },
  {
   "cell_type": "code",
   "execution_count": 3,
   "metadata": {},
   "outputs": [],
   "source": [
    "from pyspark.sql import SparkSession\n",
    "from pyspark.sql.functions import explode, split, col"
   ]
  },
  {
   "cell_type": "code",
   "execution_count": 8,
   "metadata": {},
   "outputs": [
    {
     "name": "stdout",
     "output_type": "stream",
     "text": [
      "+--------+-----+\n",
      "|    word|count|\n",
      "+--------+-----+\n",
      "|   thick|    1|\n",
      "|    back|    1|\n",
      "|sunshine|    1|\n",
      "|    soon|    1|\n",
      "|     bat|    1|\n",
      "|  bricks|    1|\n",
      "|  copper|    1|\n",
      "|  proper|    1|\n",
      "|  sticks|    1|\n",
      "|   snake|    1|\n",
      "|     the|    1|\n",
      "|     pot|    1|\n",
      "|     see|    1|\n",
      "|  sneaks|    1|\n",
      "|  surely|    1|\n",
      "|   snack|    1|\n",
      "|   black|    1|\n",
      "|  coffee|    1|\n",
      "|    thin|    1|\n",
      "|       a|    3|\n",
      "|    seek|    1|\n",
      "|      to|    1|\n",
      "|      we|    1|\n",
      "+--------+-----+\n",
      "\n"
     ]
    }
   ],
   "source": [
    "try:\n",
    "    # Create a SparkSession\n",
    "    spark = SparkSession.builder.appName(\"WordCount\").getOrCreate()\n",
    "\n",
    "    # Read a text file into a DataFrame\n",
    "    df = spark.read.text(r\"file:///C:\\Users\\sanju\\Music\\toung twister.txt\")\n",
    "\n",
    "    # Split the lines into words and explode them into individual rows\n",
    "    words_df = df.select(explode(split(col(\"value\"), r\"\\s+\")).alias(\"word\"))\n",
    "\n",
    "    # Count the occurrences of each word\n",
    "    word_count_df = words_df.groupBy(\"word\").count()\n",
    "    # Show the result\n",
    "    word_count_df.show(30)\n",
    "except Exception as e:\n",
    "    print(e)"
   ]
  }
 ],
 "metadata": {
  "kernelspec": {
   "display_name": "Python 3",
   "language": "python",
   "name": "python3"
  },
  "language_info": {
   "codemirror_mode": {
    "name": "ipython",
    "version": 3
   },
   "file_extension": ".py",
   "mimetype": "text/x-python",
   "name": "python",
   "nbconvert_exporter": "python",
   "pygments_lexer": "ipython3",
   "version": "3.12.5"
  }
 },
 "nbformat": 4,
 "nbformat_minor": 2
}
